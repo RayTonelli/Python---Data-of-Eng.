{
  "nbformat": 4,
  "nbformat_minor": 0,
  "metadata": {
    "colab": {
      "provenance": []
    },
    "kernelspec": {
      "name": "python3",
      "display_name": "Python 3"
    },
    "language_info": {
      "name": "python"
    }
  },
  "cells": [
    {
      "cell_type": "code",
      "execution_count": null,
      "metadata": {
        "id": "y96ex9LDcn4w"
      },
      "outputs": [],
      "source": [
        "#Exercicio\n",
        "palavra_=_input('Digite_uma_palavra/frase_')\n",
        "\n",
        "if_palavra.replace(\"_\",_\"\").upper()_==_palavra.replace(\"_\",_\"\")[::-1].upper():\n",
        "_ print(f'{palavra}_e_um_Palindromo')\n",
        "else:\n",
        "_ print(f'{palavra}_nao_e_um_Palindromo')"
      ]
    },
    {
      "cell_type": "code",
      "source": [
        "lista = [1, 2, 3, 10, 25]\n",
        "print('Fatiando a lista: ' + str(lista[1:4]))\n",
        "print('Imprimindo a lista em ordem inversa: ' + str(lista[::-1]))\n",
        "print(lista)"
      ],
      "metadata": {
        "id": "gBrvQx0gcqJr"
      },
      "execution_count": null,
      "outputs": []
    },
    {
      "cell_type": "code",
      "source": [
        "# Solicitando frase para o usuario\n",
        "frase_base = input(\"Digite uma frase: \")\n",
        "#Invertendo caracteres da frase, deixando todas as letras maiusculas e retirando\n",
        "espacosfrase_inversa = frase_base[::-1].upper().replace(' ', '')\n",
        "# Verificando se frase e um palindromo\n",
        "if (frase_base.upper() == frase_inversa):\n",
        "  print(\"Frase e um palindromo\")\n",
        "else:\n",
        "  print(\"Frase nao e um palindromo\")"
      ],
      "metadata": {
        "id": "1n85ca_ec9_-"
      },
      "execution_count": null,
      "outputs": []
    },
    {
      "cell_type": "code",
      "source": [
        "from random import *\n",
        "print ('Gerando numero real entre 0 e 1:', random())\n",
        "print ('Gerando numero real entre 10 e 20:', uniform(10,20))\n",
        "print ('Gerando numero inteiro entre 10 e 20:', randint(10,20))\n",
        "print ('Gerando numero par entre 10 e 20:', randrange(10,20,2))"
      ],
      "metadata": {
        "id": "rzANKog1ebCv"
      },
      "execution_count": null,
      "outputs": []
    },
    {
      "cell_type": "code",
      "source": [
        "from random import sample\n",
        "lista = sample(range(1, 101), 10)\n",
        "print('Lista com numeros aleatorios de 1 a 100:' + str(lista))"
      ],
      "metadata": {
        "id": "iq8xy2w4fSG1"
      },
      "execution_count": null,
      "outputs": []
    },
    {
      "cell_type": "code",
      "source": [
        "lista = [8, 89, 65, 63, 76, 8]\n",
        "print('Quantidade de ocorrencias do numero 8 na lista: ' ,lista.count(8))\n",
        "print('Posicao da primeira ocorrencia do numero 8 na lista: ', lista.index(8))\n",
        "print('Posicao a primeira ocorrencia do numero 8 a partir da posicao 1:', lista.index(8, 1))"
      ],
      "metadata": {
        "id": "6TvQCAeAf_d2"
      },
      "execution_count": null,
      "outputs": []
    },
    {
      "cell_type": "code",
      "source": [
        "lista = [1, 2, 3, 5, 9, 12]\n",
        "lista.sort()\n",
        "print('Lista ordenada:', lista)\n",
        "lista.reverse()\n",
        "print('Após inverter a lista:', lista)"
      ],
      "metadata": {
        "id": "EsbInciWhN6u"
      },
      "execution_count": null,
      "outputs": []
    },
    {
      "cell_type": "code",
      "source": [
        "lista = [8, 89, 65, 63, 76, 8]\n",
        "pos = 0\n",
        "for i in range(1, lista.count(8) + 1):\n",
        "  pos = lista.index(8, pos)\n",
        "  print(pos)\n",
        "  pos = pos + 1"
      ],
      "metadata": {
        "id": "6f9Nz3duihMc"
      },
      "execution_count": null,
      "outputs": []
    },
    {
      "cell_type": "code",
      "source": [
        "lista = ['Introducao a Python', 'Banco de Dados', 'Redes de Computadores']\n",
        "print('Utilizando o join com listas: ', ';'.join(lista))"
      ],
      "metadata": {
        "id": "ZTWh_htYjY9N"
      },
      "execution_count": null,
      "outputs": []
    },
    {
      "cell_type": "markdown",
      "source": [
        "Crie uma lista contendo 10 valores inteiros aleatórios, entre 1 e 20. Imprima:\n",
        "\n",
        "O maior valor, o menor valor, a soma e a média dos valores na lista\n",
        "\n",
        "Ordene a lista, e em seguida, a imprima em ordem crescente\n",
        "\n",
        "Imprima a lista em ordem decrescente\n",
        "\n",
        "Solicite ao usuário que informe um valor e imprima a quantidade de ocorrências do valor na lista. Imprima uma mensagem, caso o valor não se encontre na lista"
      ],
      "metadata": {
        "id": "n6WCN7MqyAAn"
      }
    },
    {
      "cell_type": "code",
      "source": [
        "iimport random\n",
        "import numpy as np\n",
        "# Definindo o\n",
        "tamanho da listatamanho = 20\n",
        "# Criando uma lista vazia para armazenar os valores gerados\n",
        "lista = []\n",
        "# Gerando valores aleatorios e adicionando a lista\n",
        "for i in range(tamanho):\n",
        "valor = random.randint(1, 20)\n",
        "lista.append(valor)\n",
        "# Imprimindo a lista gerada\n",
        "print(lista)\n",
        "print(f' o maximo da lista e {max(lista)}')\n",
        "print(f' o minimo da lista e {min(lista)}')\n",
        "print(f' a soma da lista e {sum(lista)}')\n",
        "print(f'a media da lista e {np.mean(lista)}')"
      ],
      "metadata": {
        "id": "cJE_VDR9w1j_"
      },
      "execution_count": null,
      "outputs": []
    },
    {
      "cell_type": "markdown",
      "source": [
        "Solicite ao usuário que digite uma data no formato DD/MM/AAAA e imprima a data por extenso. Por exemplo:\n",
        "\n",
        "08/11/2022 – 08 de novembro de 2022\n",
        "\n",
        "(dica: crie uma lista contendo o nome de cada mês do ano)"
      ],
      "metadata": {
        "id": "-_zq_7qVyE3w"
      }
    },
    {
      "cell_type": "code",
      "source": [
        "data = str(input(\"Digite uma data, ex:(22/02/2022): \"))\n",
        "\n",
        "meses = ['janeiro', 'fevereiro', 'marco', 'abril', 'maio', 'junho', 'julho', 'agosto', 'setembro', 'outubro', 'novembro', 'dezembro']\n",
        "\n",
        "dia,mes,ano = data.split(\"/\")\n",
        "\n",
        "print(dia, \"de\", meses[int(mes) - 1], \"de\", ano)"
      ],
      "metadata": {
        "id": "DIumD-Kgxv7o"
      },
      "execution_count": null,
      "outputs": []
    }
  ]
}