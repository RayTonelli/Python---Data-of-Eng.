{
  "nbformat": 4,
  "nbformat_minor": 0,
  "metadata": {
    "colab": {
      "provenance": []
    },
    "kernelspec": {
      "name": "python3",
      "display_name": "Python 3"
    },
    "language_info": {
      "name": "python"
    }
  },
  "cells": [
    {
      "cell_type": "code",
      "execution_count": null,
      "metadata": {
        "id": "OxoEg4inbm-d"
      },
      "outputs": [],
      "source": [
        "#Exercicio 1/3\n",
        "matricula=int(input(\"Digite a matricula: \"))\n",
        "while (matricula<0):\n",
        "  matricula=int(input('Matricula invalida! Digite a matricula: '))\n",
        "\n",
        "nota1=float(input(\"Digite a nota1: \"))\n",
        "nota2=float(input(\"Digite a nota2: \"))\n",
        "nota3=float(input(\"Digite a nota3: \"))\n",
        "notatotal=(nota1+nota2+nota3)/3\n",
        "print('Nota Total: ',notatotal)\n",
        "\n",
        "if (notatotal>=70):\n",
        "  print('Aprovado!')\n",
        "elif (notatotal>=60) and (notatotal<70):\n",
        "  print('Exame!')\n",
        "else:\n",
        "  print('Reprovado!')\n",
        ""
      ]
    },
    {
      "cell_type": "code",
      "source": [
        "#Exercico 2\n",
        "i=1\n",
        "c1=0\n",
        "c2=0\n",
        "c3=1\n",
        "med=0\n",
        "while (i>0):\n",
        "  i=int(input('Digite a idade: '))\n",
        "  if (i>=0) and (i>=50):\n",
        "    c1=c1+1\n",
        "  elif (i>=0) and (i<=40):\n",
        "    c2=c2+1\n",
        "med=(med*(c3-1)+i)/c3\n",
        "print('Média das idades: ', med)\n",
        "print(\"Pessoas acima de 50 anos: \", c1)\n",
        "print(\"Pessoas abaixo de 40 anos: \", c2)\n"
      ],
      "metadata": {
        "id": "hK0n0lNEhyPT"
      },
      "execution_count": null,
      "outputs": []
    },
    {
      "cell_type": "code",
      "source": [
        "#Exercico 4\n",
        "nump=int(input('Número de participantes: '))\n",
        "medsal=0\n",
        "medfilhos=0\n",
        "for i in range(1, nump + 1):\n",
        "    salario = float(input(f\"Digite o salario da pessoa {i}: \"))\n",
        "    qfilhos = int(input(f\"Digite o número de filhos {i}: \"))\n",
        "medsal = ((medsal * (i - 1)) + salario) / i\n",
        "medfilhos = ((medfilhos * (i - 1)) + qfilhos) / i\n",
        "print('Média salarial: ', medsal)\n",
        "print('Média de filhos: ', medfilhos)\n",
        "\n",
        "\n"
      ],
      "metadata": {
        "id": "CrYtAoLeq-A_"
      },
      "execution_count": null,
      "outputs": []
    }
  ]
}