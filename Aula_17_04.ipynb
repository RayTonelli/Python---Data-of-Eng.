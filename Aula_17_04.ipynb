{
  "nbformat": 4,
  "nbformat_minor": 0,
  "metadata": {
    "colab": {
      "provenance": []
    },
    "kernelspec": {
      "name": "python3",
      "display_name": "Python 3"
    },
    "language_info": {
      "name": "python"
    }
  },
  "cells": [
    {
      "cell_type": "code",
      "execution_count": null,
      "metadata": {
        "colab": {
          "base_uri": "https://localhost:8080/"
        },
        "id": "y3xzdxwFcqFE",
        "outputId": "8d5a374f-a75d-4642-fdb1-949c7bcc41c0"
      },
      "outputs": [
        {
          "output_type": "stream",
          "name": "stdout",
          "text": [
            "Digite um número:10\n",
            "Digite um número:5\n",
            "5\n",
            "6\n",
            "7\n",
            "8\n",
            "9\n"
          ]
        }
      ],
      "source": [
        "#Lista for\n",
        "a=int(input('Digite um número:'))\n",
        "b=int(input('Digite um número:'))\n",
        "\n",
        "if a<b:\n",
        "    menor=a\n",
        "    maior=b\n",
        "else:\n",
        "    menor=b\n",
        "    maior=a\n",
        "\n",
        "for i in range (menor, maior):\n",
        "    print (i)"
      ]
    },
    {
      "cell_type": "code",
      "source": [
        "#Lista for\n",
        "a=1 #int(input('Digite um número: '))\n",
        "b=int(input('Digite um número:'))\n",
        "\n",
        "for i in range (a,b):\n",
        "    print (i)\n",
        "    i+=2"
      ],
      "metadata": {
        "id": "TxsJkGxC7Cmr"
      },
      "execution_count": null,
      "outputs": []
    },
    {
      "cell_type": "code",
      "source": [
        "#Lista de Condicional\n",
        "a=int(input('Digite primeiro valor: '))\n",
        "b=int(input('Digite segundo valor: '))\n",
        "\n",
        "if (a>b):\n",
        "    print ('Maior: ', a)\n",
        "elif (b>a):\n",
        "    print ('Maior: ', b)\n",
        "else:\n",
        "    print ('Números iguais')"
      ],
      "metadata": {
        "id": "lDdSKADQ7DwD"
      },
      "execution_count": null,
      "outputs": []
    }
  ]
}