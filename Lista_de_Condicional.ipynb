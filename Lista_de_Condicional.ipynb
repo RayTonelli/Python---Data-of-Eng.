{
  "nbformat": 4,
  "nbformat_minor": 0,
  "metadata": {
    "colab": {
      "provenance": []
    },
    "kernelspec": {
      "name": "python3",
      "display_name": "Python 3"
    },
    "language_info": {
      "name": "python"
    }
  },
  "cells": [
    {
      "cell_type": "code",
      "execution_count": null,
      "metadata": {
        "id": "qDVGewFEpL5o"
      },
      "outputs": [],
      "source": [
        "#Exercicio 1\n",
        "n1=int(input(\"Digite o primeiro número: \"))\n",
        "n2=int(input(\"Digite o segundo número: \"))\n",
        "\n",
        "if (n1>n2):\n",
        "  print(\"Maior: \",n1)\n",
        "  print(\"Menor: \",n2)\n",
        "elif (n2>n1):\n",
        "  print(\"Maior: \",n2)\n",
        "  print(\"Menor: \",n1)\n",
        "else:\n",
        "  print('O números são iguais!')"
      ]
    },
    {
      "cell_type": "code",
      "source": [
        "#Exercico 2\n",
        "nota1=float(input(\"Digite a primeira nota: \"))\n",
        "nota2=float(input(\"Digite a segunda nota: \"))\n",
        "med=(nota1+nota2)/2\n",
        "if (med>=7):\n",
        "  print('Aprovado!')\n",
        "if (med<7):\n",
        "  print('Reprovado!')"
      ],
      "metadata": {
        "id": "2UxsUi7_xbod"
      },
      "execution_count": null,
      "outputs": []
    },
    {
      "cell_type": "code",
      "source": [
        "#Exercico 3\n",
        "nota1=float(input(\"Digite a primeira nota: \"))\n",
        "nota2=float(input(\"Digite a segunda nota: \"))\n",
        "nota3=float(input(\"Digite a terceira nota: \"))\n",
        "med=(nota1+nota2+nota3)/3\n",
        "if (med>=0) and (med<3):\n",
        "  print('Reprovado!')\n",
        "elif (med>=3) and (med<7):\n",
        "  print('Exame!')\n",
        "elif (med>=7) and (med<=10):\n",
        "  print('Aprovado!')"
      ],
      "metadata": {
        "id": "IUdKDwQeztFf"
      },
      "execution_count": null,
      "outputs": []
    },
    {
      "cell_type": "code",
      "source": [
        "#Exercicio 4\n",
        "x=int(input(\"Digite o primeiro lado: \"))\n",
        "y=int(input(\"Digite o segundo lado: \"))\n",
        "z=int(input(\"Digite o terceiro lado: \"))\n",
        "if (x<(y+z)) and (x<(z+y)):\n",
        "  print('um lado',)\n",
        "\n"
      ],
      "metadata": {
        "id": "WpPneNb236LH"
      },
      "execution_count": null,
      "outputs": []
    }
  ]
}